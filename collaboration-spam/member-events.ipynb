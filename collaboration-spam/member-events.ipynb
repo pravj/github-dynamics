{
 "cells": [
  {
   "cell_type": "code",
   "execution_count": 47,
   "metadata": {
    "collapsed": true
   },
   "outputs": [],
   "source": [
    "from pandas.io import gbq"
   ]
  },
  {
   "cell_type": "code",
   "execution_count": 48,
   "metadata": {
    "collapsed": true
   },
   "outputs": [],
   "source": [
    "member_event_query = \"\"\"\n",
    "SELECT\n",
    "  actor.login as user,\n",
    "  repo.url as repository,\n",
    "  payload,\n",
    "  created_at\n",
    "FROM [githubarchive:year.{0}]\n",
    "WHERE\n",
    "  type = 'MemberEvent' and\n",
    "  org.login IS NULL and\n",
    "  MONTH(TIMESTAMP(created_at)) = {1}\n",
    "\"\"\""
   ]
  },
  {
   "cell_type": "code",
   "execution_count": 49,
   "metadata": {
    "collapsed": false
   },
   "outputs": [],
   "source": [
    "project_id = 'jadugar-n12'"
   ]
  },
  {
   "cell_type": "code",
   "execution_count": 50,
   "metadata": {
    "collapsed": false
   },
   "outputs": [
    {
     "name": "stdout",
     "output_type": "stream",
     "text": [
      "Requesting query... ok.\n",
      "Query running...\n",
      "  Elapsed 7.7 s. Waiting...\n",
      "Query done.\n",
      "Processed: 704.1 Gb\n",
      "\n",
      "Retrieving results...\n",
      "  Got page: 1; 12.0% done. Elapsed 81.04 s.\n",
      "  Got page: 2; 24.0% done. Elapsed 146.76 s.\n",
      "  Got page: 3; 36.0% done. Elapsed 209.22 s.\n",
      "  Got page: 4; 48.0% done. Elapsed 351.67 s.\n",
      "  Got page: 5; 60.0% done. Elapsed 404.6 s.\n",
      "  Got page: 6; 72.0% done. Elapsed 490.7 s.\n",
      "  Got page: 7; 83.0% done. Elapsed 553.12 s.\n",
      "  Got page: 8; 95.0% done. Elapsed 609.06 s.\n",
      "  Got page: 9; 100.0% done. Elapsed 644.93 s.\n",
      "Got 87331 rows.\n",
      "\n",
      "Total time taken 649.2 s.\n",
      "Finished at 2017-02-05 12:37:56.\n"
     ]
    }
   ],
   "source": [
    "member_events_2016df = gbq.read_gbq(member_event_query.format('2016', '12'), project_id=project_id)"
   ]
  },
  {
   "cell_type": "code",
   "execution_count": 51,
   "metadata": {
    "collapsed": true
   },
   "outputs": [],
   "source": [
    "member_events_2016df.to_json('2016_12.json')"
   ]
  },
  {
   "cell_type": "code",
   "execution_count": null,
   "metadata": {
    "collapsed": true
   },
   "outputs": [],
   "source": []
  }
 ],
 "metadata": {
  "kernelspec": {
   "display_name": "Python 2",
   "language": "python",
   "name": "python2"
  },
  "language_info": {
   "codemirror_mode": {
    "name": "ipython",
    "version": 2
   },
   "file_extension": ".py",
   "mimetype": "text/x-python",
   "name": "python",
   "nbconvert_exporter": "python",
   "pygments_lexer": "ipython2",
   "version": "2.7.6"
  }
 },
 "nbformat": 4,
 "nbformat_minor": 0
}
